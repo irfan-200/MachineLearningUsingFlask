{
  "nbformat": 4,
  "nbformat_minor": 0,
  "metadata": {
    "colab": {
      "provenance": [],
      "authorship_tag": "ABX9TyOs+5o0jg54MhKO54Ycysb+",
      "include_colab_link": true
    },
    "kernelspec": {
      "name": "python3",
      "display_name": "Python 3"
    },
    "language_info": {
      "name": "python"
    }
  },
  "cells": [
    {
      "cell_type": "markdown",
      "metadata": {
        "id": "view-in-github",
        "colab_type": "text"
      },
      "source": [
        "<a href=\"https://colab.research.google.com/github/irfan-200/MachineLearningUsingFlask/blob/main/Untitled5.ipynb\" target=\"_parent\"><img src=\"https://colab.research.google.com/assets/colab-badge.svg\" alt=\"Open In Colab\"/></a>"
      ]
    },
    {
      "cell_type": "code",
      "execution_count": 3,
      "metadata": {
        "colab": {
          "base_uri": "https://localhost:8080/"
        },
        "id": "jHAzItAxIpbD",
        "outputId": "4703c5f3-0e6a-464a-d325-19b2ffd98190"
      },
      "outputs": [
        {
          "output_type": "stream",
          "name": "stdout",
          "text": [
            "Original DataFrame:\n",
            "   customer_id  gender       city\n",
            "0            1    Male  Hyderabad\n",
            "1            2  Female       pune\n",
            "2            3  Female   Banglore\n",
            "3            4    Male     mumbai\n",
            "   gender_Female  gender_Male  city_Banglore  city_Hyderabad  city_mumbai  \\\n",
            "0            0.0          1.0            0.0             1.0          0.0   \n",
            "1            1.0          0.0            0.0             0.0          0.0   \n",
            "2            1.0          0.0            1.0             0.0          0.0   \n",
            "3            0.0          1.0            0.0             0.0          1.0   \n",
            "\n",
            "   city_pune  \n",
            "0        0.0  \n",
            "1        1.0  \n",
            "2        0.0  \n",
            "3        0.0  \n",
            "\n",
            "One-Hot encoded DataFrame with sklearn\n"
          ]
        }
      ],
      "source": [
        "import pandas as pd\n",
        "from sklearn.preprocessing import OneHotEncoder\n",
        "\n",
        "data ={\n",
        "    \"customer_id\": [1, 2, 3, 4],\n",
        "    \"gender\": [\"Male\",\"Female\", \"Female\", \"Male\"],\n",
        "    \"city\": [\"Hyderabad\",\"pune\", \"Banglore\", \"mumbai\"]\n",
        "}\n",
        "\n",
        "df = pd.DataFrame(data)\n",
        "print(\"Original DataFrame:\")\n",
        "print(df)\n",
        "\n",
        "one_hot_encoder = OneHotEncoder (sparse_output=False)\n",
        "columns_to_encode = [\"gender\",\"city\"]\n",
        "encoded_data = one_hot_encoder.fit_transform(df[columns_to_encode])\n",
        "encoded_columns = one_hot_encoder.get_feature_names_out(columns_to_encode)\n",
        "encoded_df = pd.DataFrame (encoded_data,columns=encoded_columns)\n",
        "print(encoded_df)\n",
        "print(\"\\nOne-Hot encoded DataFrame with sklearn\")"
      ]
    }
  ]
}