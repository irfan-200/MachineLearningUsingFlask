{
  "nbformat": 4,
  "nbformat_minor": 0,
  "metadata": {
    "colab": {
      "provenance": [],
      "authorship_tag": "ABX9TyMBLQnBYT5RifBir7yUWXfQ",
      "include_colab_link": true
    },
    "kernelspec": {
      "name": "python3",
      "display_name": "Python 3"
    },
    "language_info": {
      "name": "python"
    }
  },
  "cells": [
    {
      "cell_type": "markdown",
      "metadata": {
        "id": "view-in-github",
        "colab_type": "text"
      },
      "source": [
        "<a href=\"https://colab.research.google.com/github/irfan-200/MachineLearningUsingFlask/blob/main/Untitled0.ipynb\" target=\"_parent\"><img src=\"https://colab.research.google.com/assets/colab-badge.svg\" alt=\"Open In Colab\"/></a>"
      ]
    },
    {
      "cell_type": "code",
      "execution_count": null,
      "metadata": {
        "colab": {
          "base_uri": "https://localhost:8080/"
        },
        "id": "rhn3MSUgELt5",
        "outputId": "415c17be-bdc8-4222-fedd-7beb3f668b63"
      },
      "outputs": [
        {
          "output_type": "stream",
          "name": "stdout",
          "text": [
            "Sales DataFrame:\n",
            "   TransactionID  CustomerID  Amount        Date\n",
            "0              1         101     250  2025-01-01\n",
            "1              2         102     300  2025-01-02\n",
            "2              3         103     400  2025-01-03\n",
            "3              4         104     500  2025-01-04\n",
            "4              5         101     600  2025-01-05\n",
            "\n",
            "Shape of sales data: (5, 4)\n",
            "\n",
            "Sales data statistics:\n",
            "Sales dataframe    TransactionID  CustomerID  Amount        Date\n",
            "0              1         101     250  2025-01-01\n",
            "1              2         102     300  2025-01-02\n",
            "2              3         103     400  2025-01-03\n",
            "3              4         104     500  2025-01-04\n",
            "4              5         101     600  2025-01-05\n",
            "customers_df    CustomerID CustomerName  Age         City\n",
            "0         101        Alice   30     New York\n",
            "1         102          Bob   35  Los Angeles\n",
            "2         103      Charlie   40      Chicago\n",
            "3         104        David   25      Houston\n"
          ]
        }
      ],
      "source": [
        "import pandas as pd\n",
        "\n",
        "# Sample data for sales transactions and customer information\n",
        "\n",
        "sales_data = {\n",
        "\n",
        "    'TransactionID': [1, 2, 3, 4, 5],\n",
        "\n",
        "    'CustomerID': [101, 102, 103, 104, 101],\n",
        "\n",
        "    'Amount': [250, 300, 400, 500, 600],\n",
        "\n",
        "    'Date': ['2025-01-01', '2025-01-02', '2025-01-03', '2025-01-04', '2025-01-05']\n",
        "\n",
        "}\n",
        "\n",
        "customer_data = {\n",
        "\n",
        "    'CustomerID': [101, 102, 103, 104],\n",
        "\n",
        "    'CustomerName': ['Alice', 'Bob', 'Charlie', 'David'],\n",
        "\n",
        "    'Age': [30, 35, 40, 25],\n",
        "\n",
        "    'City': ['New York', 'Los Angeles', 'Chicago', 'Houston']\n",
        "\n",
        "}\n",
        "\n",
        "# Convert data into DataFrame\n",
        "\n",
        "sales_df = pd.DataFrame(sales_data)\n",
        "\n",
        "customers_df = pd.DataFrame(customer_data)\n",
        "\n",
        "# Show basic structure of sales_df\n",
        "\n",
        "print(\"Sales DataFrame:\")\n",
        "\n",
        "print(sales_df.head())\n",
        "\n",
        "# 1. Exploring the dataset (using shape and describe)\n",
        "\n",
        "print(\"\\nShape of sales data:\", sales_df.shape)  # Get number of rows and columns\n",
        "\n",
        "print(\"\\nSales data statistics:\")\n",
        "\n",
        "#print(sales_df.describe())  # Summary statistics\n",
        "\n",
        "print(\"Sales dataframe\",sales_df)\n",
        "\n",
        "print(\"customers_df\",customers_df)"
      ]
    },
    {
      "cell_type": "code",
      "source": [
        "merged_df = pd.merge(sales_df, customers_df, on='CustomerID', how='inner')\n",
        "print(\"\\nMerged DataFrame:\")\n",
        "print (merged_df)\n"
      ],
      "metadata": {
        "colab": {
          "base_uri": "https://localhost:8080/"
        },
        "id": "1qsEZKdMKYOS",
        "outputId": "79aa1f4e-4706-41f9-d97a-6c1a7abe88c7"
      },
      "execution_count": null,
      "outputs": [
        {
          "output_type": "stream",
          "name": "stdout",
          "text": [
            "\n",
            "Merged DataFrame:\n",
            "   TransactionID  CustomerID  Amount        Date CustomerName  Age  \\\n",
            "0              1         101     250  2025-01-01        Alice   30   \n",
            "1              2         102     300  2025-01-02          Bob   35   \n",
            "2              3         103     400  2025-01-03      Charlie   40   \n",
            "3              4         104     500  2025-01-04        David   25   \n",
            "4              5         101     600  2025-01-05        Alice   30   \n",
            "\n",
            "          City  \n",
            "0     New York  \n",
            "1  Los Angeles  \n",
            "2      Chicago  \n",
            "3      Houston  \n",
            "4     New York  \n"
          ]
        }
      ]
    },
    {
      "cell_type": "code",
      "source": [
        "merged_df = pd.merge(sales_df, customers_df, on='CustomerID', how='outer')\n",
        "print(\"\\nMerged DataFrame:\")\n",
        "print (merged_df)\n"
      ],
      "metadata": {
        "colab": {
          "base_uri": "https://localhost:8080/"
        },
        "id": "SxPsi5O4MTa8",
        "outputId": "4332d8dd-a8b6-4f89-aa30-f5420209ee0a"
      },
      "execution_count": null,
      "outputs": [
        {
          "output_type": "stream",
          "name": "stdout",
          "text": [
            "\n",
            "Merged DataFrame:\n",
            "   TransactionID  CustomerID  Amount        Date CustomerName  Age  \\\n",
            "0              1         101     250  2025-01-01        Alice   30   \n",
            "1              5         101     600  2025-01-05        Alice   30   \n",
            "2              2         102     300  2025-01-02          Bob   35   \n",
            "3              3         103     400  2025-01-03      Charlie   40   \n",
            "4              4         104     500  2025-01-04        David   25   \n",
            "\n",
            "          City  \n",
            "0     New York  \n",
            "1     New York  \n",
            "2  Los Angeles  \n",
            "3      Chicago  \n",
            "4      Houston  \n"
          ]
        }
      ]
    },
    {
      "cell_type": "code",
      "source": [
        "merged_df = pd.merge(sales_df, customers_df, on='CustomerID', how='right')\n",
        "print(\"\\nMerged DataFrame:\")\n",
        "print (merged_df)"
      ],
      "metadata": {
        "colab": {
          "base_uri": "https://localhost:8080/"
        },
        "id": "nkC3j9TQMjln",
        "outputId": "0a4fc284-1293-4b7e-b6ae-49473b44a7e1"
      },
      "execution_count": null,
      "outputs": [
        {
          "output_type": "stream",
          "name": "stdout",
          "text": [
            "\n",
            "Merged DataFrame:\n",
            "   TransactionID  CustomerID  Amount        Date CustomerName  Age  \\\n",
            "0              1         101     250  2025-01-01        Alice   30   \n",
            "1              5         101     600  2025-01-05        Alice   30   \n",
            "2              2         102     300  2025-01-02          Bob   35   \n",
            "3              3         103     400  2025-01-03      Charlie   40   \n",
            "4              4         104     500  2025-01-04        David   25   \n",
            "\n",
            "          City  \n",
            "0     New York  \n",
            "1     New York  \n",
            "2  Los Angeles  \n",
            "3      Chicago  \n",
            "4      Houston  \n"
          ]
        }
      ]
    },
    {
      "cell_type": "code",
      "source": [
        "merged_df = pd.merge(sales_df, customers_df, on='CustomerID', how='left')\n",
        "print(\"\\nMerged DataFrame:\")\n",
        "print (merged_df)"
      ],
      "metadata": {
        "colab": {
          "base_uri": "https://localhost:8080/"
        },
        "id": "eZfO4uy5Mpnj",
        "outputId": "9e7e9ea4-71e7-4cfa-ea16-5b8e6c25f217"
      },
      "execution_count": null,
      "outputs": [
        {
          "output_type": "stream",
          "name": "stdout",
          "text": [
            "\n",
            "Merged DataFrame:\n",
            "   TransactionID  CustomerID  Amount        Date CustomerName  Age  \\\n",
            "0              1         101     250  2025-01-01        Alice   30   \n",
            "1              2         102     300  2025-01-02          Bob   35   \n",
            "2              3         103     400  2025-01-03      Charlie   40   \n",
            "3              4         104     500  2025-01-04        David   25   \n",
            "4              5         101     600  2025-01-05        Alice   30   \n",
            "\n",
            "          City  \n",
            "0     New York  \n",
            "1  Los Angeles  \n",
            "2      Chicago  \n",
            "3      Houston  \n",
            "4     New York  \n"
          ]
        }
      ]
    },
    {
      "cell_type": "code",
      "source": [
        "customers = [\n",
        "    (101, 500),\n",
        "    (102, 300),\n",
        "    (103, 200),\n",
        "    (104, 400),\n",
        "    (105, 600)\n",
        "]\n",
        "result = [customer[0] for customer in customers if customer[1] > 400]\n",
        "print(\"customer IDs with amount >400:\",result)\n"
      ],
      "metadata": {
        "colab": {
          "base_uri": "https://localhost:8080/"
        },
        "id": "0jxRj3wGMCrG",
        "outputId": "0b6e7a72-ba34-46be-b54b-e5b4d479b824"
      },
      "execution_count": null,
      "outputs": [
        {
          "output_type": "stream",
          "name": "stdout",
          "text": [
            "customer IDs with amount >400: [101, 105]\n"
          ]
        }
      ]
    },
    {
      "cell_type": "code",
      "source": [],
      "metadata": {
        "id": "1oaU4t30MDch"
      },
      "execution_count": null,
      "outputs": []
    }
  ]
}