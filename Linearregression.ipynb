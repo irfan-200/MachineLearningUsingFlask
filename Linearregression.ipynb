{
  "nbformat": 4,
  "nbformat_minor": 0,
  "metadata": {
    "colab": {
      "provenance": [],
      "authorship_tag": "ABX9TyNzIc/NysXKcNl4j1Lmuolf",
      "include_colab_link": true
    },
    "kernelspec": {
      "name": "python3",
      "display_name": "Python 3"
    },
    "language_info": {
      "name": "python"
    }
  },
  "cells": [
    {
      "cell_type": "markdown",
      "metadata": {
        "id": "view-in-github",
        "colab_type": "text"
      },
      "source": [
        "<a href=\"https://colab.research.google.com/github/irfan-200/MachineLearningUsingFlask/blob/main/Linearregression.ipynb\" target=\"_parent\"><img src=\"https://colab.research.google.com/assets/colab-badge.svg\" alt=\"Open In Colab\"/></a>"
      ]
    },
    {
      "cell_type": "code",
      "execution_count": null,
      "metadata": {
        "colab": {
          "base_uri": "https://localhost:8080/"
        },
        "id": "hKtKfGFb6BJc",
        "outputId": "099b080d-123f-45d9-f585-3f8b2aeedeca"
      },
      "outputs": [
        {
          "output_type": "stream",
          "name": "stdout",
          "text": [
            "Ola Fare Calculation:\n",
            "Rate per km: -1.25\n",
            "Total Fare: 25.00\n",
            "\n",
            "Uber Fare Calculation:\n",
            "Rate per km: 0.75\n",
            "Total Fare: 50.00\n",
            "\n",
            "Ola is cheaper!\n"
          ]
        }
      ],
      "source": [
        "def calculate_fare(base_price, rate_per_km, distance):\n",
        "    fare = base_price + rate_per_km * distance\n",
        "    return fare\n",
        "\n",
        "base_price_ola = 50\n",
        "fare_price_ola = 25\n",
        "km_travelled = 20\n",
        "\n",
        "base_price_uber = 35\n",
        "fare_price_uber = 50\n",
        "rate_per_km_ola = (fare_price_ola - base_price_ola) / km_travelled\n",
        "rate_per_km_uber = (fare_price_uber - base_price_uber) / km_travelled\n",
        "\n",
        "total_fare_ola = calculate_fare(base_price_ola, rate_per_km_ola, km_travelled)\n",
        "total_fare_uber = calculate_fare(base_price_uber, rate_per_km_uber, km_travelled)\n",
        "\n",
        "print(f\"Ola Fare Calculation:\")\n",
        "print(f\"Rate per km: {rate_per_km_ola:.2f}\")\n",
        "print(f\"Total Fare: {total_fare_ola:.2f}\")\n",
        "\n",
        "print(f\"\\nUber Fare Calculation:\")\n",
        "print(f\"Rate per km: {rate_per_km_uber:.2f}\")\n",
        "print(f\"Total Fare: {total_fare_uber:.2f}\")\n",
        "\n",
        "if total_fare_ola < total_fare_uber:\n",
        "    print(\"\\nOla is cheaper!\")\n",
        "else:\n",
        "    print(\"\\nUber is cheaper!\")"
      ]
    }
  ]
}